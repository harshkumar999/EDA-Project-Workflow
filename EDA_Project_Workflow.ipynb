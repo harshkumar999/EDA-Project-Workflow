{
  "nbformat": 4,
  "nbformat_minor": 0,
  "metadata": {
    "colab": {
      "provenance": [],
      "authorship_tag": "ABX9TyNg3fFyOX0YxxSW+snze0gC",
      "include_colab_link": true
    },
    "kernelspec": {
      "name": "python3",
      "display_name": "Python 3"
    },
    "language_info": {
      "name": "python"
    }
  },
  "cells": [
    {
      "cell_type": "markdown",
      "metadata": {
        "id": "view-in-github",
        "colab_type": "text"
      },
      "source": [
        "<a href=\"https://colab.research.google.com/github/harshkumar999/EDA-Project-Workflow/blob/main/EDA_Project_Workflow.ipynb\" target=\"_parent\"><img src=\"https://colab.research.google.com/assets/colab-badge.svg\" alt=\"Open In Colab\"/></a>"
      ]
    },
    {
      "cell_type": "markdown",
      "source": [
        "**Project Title**\n",
        "\n",
        "Exploratory Data Analysis on [Dataset Name]\n",
        "\n"
      ],
      "metadata": {
        "id": "W2Sla6oA9jb_"
      }
    },
    {
      "cell_type": "markdown",
      "source": [
        "\n",
        "**Problem Statement**\n",
        "\n",
        "Analyze the dataset to uncover insights, identify patterns, and inform decisions. The goal is clean the data, visualize trends, and understand relationships between variables.\n"
      ],
      "metadata": {
        "id": "TMqFZome_3O2"
      }
    },
    {
      "cell_type": "markdown",
      "source": [
        "**Data Description**\n",
        "\n",
        "Columns Description (Data Dictionary)\n",
        "\n",
        "      Column Name                        Decription\n",
        "      Column1                            Description of Column1\n",
        "      Column2                            Description of Column2"
      ],
      "metadata": {
        "id": "xyW2H1ws_5z8"
      }
    },
    {
      "cell_type": "markdown",
      "source": [
        "**Import Libraries**\n",
        "\n",
        "      import pandas as pd\n",
        "      import numpy as np\n",
        "      import matplotlib.pyplot as plt\n",
        "      import seaborn as sns"
      ],
      "metadata": {
        "id": "McYGqBHT_XTC"
      }
    },
    {
      "cell_type": "markdown",
      "source": [
        "**Import Data**\n",
        "\n",
        "      df = pd.read_csv('path')"
      ],
      "metadata": {
        "id": "Ilme-H8XAIFA"
      }
    },
    {
      "cell_type": "markdown",
      "source": [
        "**Shape**\n",
        "\n",
        "      df.shape                 (rows, columns)"
      ],
      "metadata": {
        "id": "3Khn6l2GAPU7"
      }
    },
    {
      "cell_type": "markdown",
      "source": [
        "**View Records**\n",
        "\n",
        "      df.head()                  # First 5 records\n",
        "      df.tail()                  # Bottom 5 records\n",
        "      df.sample()                # Random records"
      ],
      "metadata": {
        "id": "FdNiw3ptA0w7"
      }
    },
    {
      "cell_type": "markdown",
      "source": [
        "**Column Names**\n",
        "\n",
        "      df.columns\n",
        "\n",
        "**Rename columns as neccessary**\n",
        "\n",
        "      df.rename({'old_name1': 'new_name2', 'old_name2': 'new_name2'}, inplace=True)"
      ],
      "metadata": {
        "id": "YkN5jokzBh9t"
      }
    },
    {
      "cell_type": "markdown",
      "source": [
        "**Data Types**\n",
        "\n",
        "      df.dtypes\n",
        "      df.info()\n",
        "\n",
        "      df.select_dtypes(include='O')\n",
        "      df.select_dtypes(include='number')\n",
        "      df.select_dtypes(include='datetime')\n",
        "\n",
        "**Check Data Types**\n",
        "\n",
        "Ensure each column has the appropriate data type and adjust if neccessary."
      ],
      "metadata": {
        "id": "xs-7o6BoCsEh"
      }
    },
    {
      "cell_type": "markdown",
      "source": [
        "**Unqiue Value in Each Column**\n",
        "\n",
        "      for i in df.column:\n",
        "            print(f\"{i} : {df[i].nunique()} unique values\")\n",
        "            print(f\"Unique values 🇸{df[i].unique()}\")"
      ],
      "metadata": {
        "id": "b071uGjZDbQS"
      }
    },
    {
      "cell_type": "markdown",
      "source": [
        "**Check Missing Values**\n",
        "\n",
        "      df.isnull().sum()"
      ],
      "metadata": {
        "id": "lFIY-wfcEaIp"
      }
    },
    {
      "cell_type": "markdown",
      "source": [
        "**Replace Unwanted Values**\n",
        "\n",
        "      df.replace({'?': np.nan, 'nan': np.nan}, inplace=True)"
      ],
      "metadata": {
        "id": "iKcZaIONFa5S"
      }
    },
    {
      "cell_type": "markdown",
      "source": [
        "**Statistical Summary**\n",
        "\n",
        "      df.describe().T                 # Numerical columns\n",
        "      df.describe(include='O')        # Categorical columms"
      ],
      "metadata": {
        "id": "1yQLW2bfFt1x"
      }
    },
    {
      "cell_type": "markdown",
      "source": [
        "**Treat Missing Values**\n",
        "\n",
        "      df['column_name'].fillna(df['column_name'].mean(), inplace=True)\n",
        "      df['column_name'].fillna(df['column_name'].median(), inplace=True)\n",
        "      df['column_name'].fillna(df['column_name'].mode()[0], inplace=True)\n",
        "      df['column_name'].fillna(method='bfill', inplace=True)\n",
        "      df['column_name'].fillna(method='ffill', inplace=True)\n",
        "\n",
        "      df['column_name'].dropna(inplace=True)\n",
        "\n",
        "- Mean for numerical columns.\n",
        "- Median for skewed distributions (outliers)\n",
        "- Mode for categorical columns."
      ],
      "metadata": {
        "id": "sXJeAdpDF_y9"
      }
    },
    {
      "cell_type": "markdown",
      "source": [
        "**Outliers Detection and Treatment**\n",
        "\n",
        "      unexpected, uneven, unwanted, not possible value\n",
        "\n",
        "      Boxplot\n",
        "      IQR Method\n",
        "      Z-score\n",
        "\n",
        "Note: It is not necessary to drop outliers; it depends on domain, others."
      ],
      "metadata": {
        "id": "_rwERrpGG8Sg"
      }
    },
    {
      "cell_type": "markdown",
      "source": [
        "**Feature Binning**\n",
        "\n",
        "Create bins for continuous variables for simplify analysis like age, salary.\n",
        "\n",
        "      def fun_name(df):\n",
        "          // code\n",
        "\n",
        "      df['new_col'] = df.apply(fun_name, axis=1)\n"
      ],
      "metadata": {
        "id": "8mZngW3LHw0t"
      }
    },
    {
      "cell_type": "markdown",
      "source": [
        "Data Distribution (Univariate Analysis)\n",
        "\n",
        "      df['col_name'].value_counts()\n",
        "    \n",
        "      Charts\n",
        "            bar chart\n",
        "            count chart\n",
        "            pie chart\n",
        "            donut chart\n",
        "            kde plot        \n",
        "            \n",
        "      normalization\n",
        "      skewness\n",
        "\n"
      ],
      "metadata": {
        "id": "DnyLdG_eHLeP"
      }
    },
    {
      "cell_type": "markdown",
      "source": [
        "Bivariate Analysis\n",
        "\n",
        "      Independent variable + Depdendent variable (groupby)\n",
        "\n",
        "      Charts\n",
        "            barplot                  # hue\n",
        "            count plot\n",
        "            pie chart\n",
        "            donut chart"
      ],
      "metadata": {
        "id": "U7gTOEPHJE3q"
      }
    },
    {
      "cell_type": "markdown",
      "source": [
        "**Numerical Analysis**\n",
        "\n",
        "      charts\n",
        "            Correlation Matrix     # corr()  # heatmap\n",
        "            Scatter Plot\n",
        "            Regression Plot\n"
      ],
      "metadata": {
        "id": "4MB4XE-uJSvE"
      }
    },
    {
      "cell_type": "markdown",
      "source": [
        "**Multivariate Analysis**\n",
        "\n",
        "- Analysis among three or more variables."
      ],
      "metadata": {
        "id": "l5DKc-YEJt_I"
      }
    },
    {
      "cell_type": "markdown",
      "source": [
        "**Conclusion and Recommendations**\n",
        "\n",
        "- Summarize insights and suggest actionable recommendations based on findings.\n"
      ],
      "metadata": {
        "id": "WBBVaGvLJ6Vg"
      }
    },
    {
      "cell_type": "markdown",
      "source": [
        "Dashboard\n",
        "            \n",
        "            Power BI"
      ],
      "metadata": {
        "id": "6AftfKzVKLH1"
      }
    }
  ]
}